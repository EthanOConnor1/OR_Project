{
 "cells": [
  {
   "cell_type": "code",
   "execution_count": 15,
   "metadata": {},
   "outputs": [],
   "source": [
    "# import the necessary modules used throughout\n",
    "from gerrychain import Graph\n",
    "import gurobipy as gp\n",
    "from gurobipy import GRB\n",
    "import math"
   ]
  },
  {
   "cell_type": "code",
   "execution_count": 16,
   "metadata": {},
   "outputs": [
    {
     "name": "stdout",
     "output_type": "stream",
     "text": [
      "Graph with 75 nodes and 192 edges\n"
     ]
    }
   ],
   "source": [
    "# import a file with Arkansas population data to a graph\n",
    "file_path = '/spfda/datas/AR_county.json'\n",
    "G = Graph.from_json(file_path)\n",
    "print(G)"
   ]
  },
  {
   "cell_type": "code",
   "execution_count": 17,
   "metadata": {},
   "outputs": [
    {
     "name": "stdout",
     "output_type": "stream",
     "text": [
      "{'boundary_node': False, 'area': 0.15957779913849965, 'STATEFP20': '05', 'COUNTYFP20': '047', 'COUNTYNS20': '00066853', 'GEOID20': '05047', 'NAME20': 'Franklin', 'NAMELSAD20': 'Franklin County', 'LSAD20': '06', 'CLASSFP20': 'H1', 'MTFCC20': 'G4020', 'CSAFP20': None, 'CBSAFP20': '22900', 'FUNCSTAT20': 'A', 'ALAND20': 1577206794, 'AWATER20': 28920052, 'INTPTLAT20': '+35.5085579', 'INTPTLON20': '-093.8876647', 'FILEID': 'PLST', 'STUSAB': 'AR', 'SUMLEV': '050', 'GEOVAR': '00', 'GEOCOMP': '00', 'CHARITER': '000', 'LOGRECNO': '0000025', 'GEOID': '0500000US05047', 'GEOCODE': '05047', 'REGION': '3', 'DIVISION': '7', 'STATE': '05', 'STATENS': '00068085', 'COUNTY': '047', 'COUNTYCC': 'H1', 'COUNTYNS': '00066853', 'CBSA': '22900', 'MEMI': '1', 'CSA': '999', 'METDIV': '99999', 'AREALAND': 1577206794, 'AREAWATR': 28920052, 'BASENAME': 'Franklin', 'NAME': 'Franklin County', 'FUNCSTAT': 'A', 'POP100': 17097, 'HU100': 7716, 'INTPTLAT': '+35.5085579', 'INTPTLON': '-093.8876647', 'LSADC': '06', 'P0010001': 17097, 'P0010002': 16016, 'P0010003': 15367, 'P0010004': 79, 'P0010005': 214, 'P0010006': 163, 'P0010007': 10, 'P0010008': 183, 'P0010009': 1081, 'P0010010': 1043, 'P0010011': 57, 'P0010012': 613, 'P0010013': 40, 'P0010014': 6, 'P0010015': 294, 'P0010016': 7, 'P0010017': 2, 'P0010018': 5, 'P0010019': 8, 'P0010020': 1, 'P0010021': 0, 'P0010022': 0, 'P0010023': 10, 'P0010024': 0, 'P0010025': 0, 'P0010026': 33, 'P0010027': 11, 'P0010028': 0, 'P0010029': 0, 'P0010030': 0, 'P0010031': 5, 'P0010032': 1, 'P0010033': 16, 'P0010034': 0, 'P0010035': 0, 'P0010036': 0, 'P0010037': 0, 'P0010038': 0, 'P0010039': 0, 'P0010040': 0, 'P0010041': 0, 'P0010042': 0, 'P0010043': 0, 'P0010044': 0, 'P0010045': 0, 'P0010046': 0, 'P0010047': 3, 'P0010048': 0, 'P0010049': 0, 'P0010050': 1, 'P0010051': 0, 'P0010052': 2, 'P0010053': 0, 'P0010054': 0, 'P0010055': 0, 'P0010056': 0, 'P0010057': 0, 'P0010058': 0, 'P0010059': 0, 'P0010060': 0, 'P0010061': 0, 'P0010062': 0, 'P0010063': 2, 'P0010064': 0, 'P0010065': 2, 'P0010066': 0, 'P0010067': 0, 'P0010068': 0, 'P0010069': 0, 'P0010070': 0, 'P0010071': 0, 'P0020001': 17097, 'P0020002': 491, 'P0020003': 16606, 'P0020004': 15680, 'P0020005': 15201, 'P0020006': 78, 'P0020007': 199, 'P0020008': 162, 'P0020009': 10, 'P0020010': 30, 'P0020011': 926, 'P0020012': 902, 'P0020013': 56, 'P0020014': 607, 'P0020015': 40, 'P0020016': 6, 'P0020017': 167, 'P0020018': 7, 'P0020019': 2, 'P0020020': 2, 'P0020021': 7, 'P0020022': 0, 'P0020023': 0, 'P0020024': 0, 'P0020025': 8, 'P0020026': 0, 'P0020027': 0, 'P0020028': 24, 'P0020029': 11, 'P0020030': 0, 'P0020031': 0, 'P0020032': 0, 'P0020033': 5, 'P0020034': 1, 'P0020035': 7, 'P0020036': 0, 'P0020037': 0, 'P0020038': 0, 'P0020039': 0, 'P0020040': 0, 'P0020041': 0, 'P0020042': 0, 'P0020043': 0, 'P0020044': 0, 'P0020045': 0, 'P0020046': 0, 'P0020047': 0, 'P0020048': 0, 'P0020049': 0, 'P0020050': 0, 'P0020051': 0, 'P0020052': 0, 'P0020053': 0, 'P0020054': 0, 'P0020055': 0, 'P0020056': 0, 'P0020057': 0, 'P0020058': 0, 'P0020059': 0, 'P0020060': 0, 'P0020061': 0, 'P0020062': 0, 'P0020063': 0, 'P0020064': 0, 'P0020065': 0, 'P0020066': 0, 'P0020067': 0, 'P0020068': 0, 'P0020069': 0, 'P0020070': 0, 'P0020071': 0, 'P0020072': 0, 'P0020073': 0, 'P0030001': 12986, 'P0030002': 12227, 'P0030003': 11769, 'P0030004': 49, 'P0030005': 143, 'P0030006': 123, 'P0030007': 10, 'P0030008': 133, 'P0030009': 759, 'P0030010': 738, 'P0030011': 18, 'P0030012': 464, 'P0030013': 15, 'P0030014': 5, 'P0030015': 212, 'P0030016': 4, 'P0030017': 2, 'P0030018': 2, 'P0030019': 8, 'P0030020': 1, 'P0030021': 0, 'P0030022': 0, 'P0030023': 7, 'P0030024': 0, 'P0030025': 0, 'P0030026': 16, 'P0030027': 9, 'P0030028': 0, 'P0030029': 0, 'P0030030': 0, 'P0030031': 0, 'P0030032': 0, 'P0030033': 7, 'P0030034': 0, 'P0030035': 0, 'P0030036': 0, 'P0030037': 0, 'P0030038': 0, 'P0030039': 0, 'P0030040': 0, 'P0030041': 0, 'P0030042': 0, 'P0030043': 0, 'P0030044': 0, 'P0030045': 0, 'P0030046': 0, 'P0030047': 3, 'P0030048': 0, 'P0030049': 0, 'P0030050': 1, 'P0030051': 0, 'P0030052': 2, 'P0030053': 0, 'P0030054': 0, 'P0030055': 0, 'P0030056': 0, 'P0030057': 0, 'P0030058': 0, 'P0030059': 0, 'P0030060': 0, 'P0030061': 0, 'P0030062': 0, 'P0030063': 2, 'P0030064': 0, 'P0030065': 2, 'P0030066': 0, 'P0030067': 0, 'P0030068': 0, 'P0030069': 0, 'P0030070': 0, 'P0030071': 0, 'P0040001': 12986, 'P0040002': 302, 'P0040003': 12684, 'P0040004': 12006, 'P0040005': 11669, 'P0040006': 49, 'P0040007': 137, 'P0040008': 122, 'P0040009': 10, 'P0040010': 19, 'P0040011': 678, 'P0040012': 662, 'P0040013': 18, 'P0040014': 464, 'P0040015': 15, 'P0040016': 5, 'P0040017': 138, 'P0040018': 4, 'P0040019': 2, 'P0040020': 2, 'P0040021': 7, 'P0040022': 0, 'P0040023': 0, 'P0040024': 0, 'P0040025': 7, 'P0040026': 0, 'P0040027': 0, 'P0040028': 16, 'P0040029': 9, 'P0040030': 0, 'P0040031': 0, 'P0040032': 0, 'P0040033': 0, 'P0040034': 0, 'P0040035': 7, 'P0040036': 0, 'P0040037': 0, 'P0040038': 0, 'P0040039': 0, 'P0040040': 0, 'P0040041': 0, 'P0040042': 0, 'P0040043': 0, 'P0040044': 0, 'P0040045': 0, 'P0040046': 0, 'P0040047': 0, 'P0040048': 0, 'P0040049': 0, 'P0040050': 0, 'P0040051': 0, 'P0040052': 0, 'P0040053': 0, 'P0040054': 0, 'P0040055': 0, 'P0040056': 0, 'P0040057': 0, 'P0040058': 0, 'P0040059': 0, 'P0040060': 0, 'P0040061': 0, 'P0040062': 0, 'P0040063': 0, 'P0040064': 0, 'P0040065': 0, 'P0040066': 0, 'P0040067': 0, 'P0040068': 0, 'P0040069': 0, 'P0040070': 0, 'P0040071': 0, 'P0040072': 0, 'P0040073': 0, 'H0010001': 7716, 'H0010002': 6706, 'H0010003': 1010, 'P0050001': 280, 'P0050002': 231, 'P0050003': 16, 'P0050004': 24, 'P0050005': 191, 'P0050006': 0, 'P0050007': 49, 'P0050008': 0, 'P0050009': 0, 'P0050010': 49}\n"
     ]
    }
   ],
   "source": [
    "# see the information contained in, for example, the first node in our graph\n",
    "print(G.nodes[0])"
   ]
  },
  {
   "cell_type": "code",
   "execution_count": 18,
   "metadata": {},
   "outputs": [
    {
     "name": "stdout",
     "output_type": "stream",
     "text": [
      "Name: Franklin, Population: 17097\n",
      "Name: Crawford, Population: 60133\n",
      "Name: Jackson, Population: 16755\n",
      "Name: Clay, Population: 14552\n",
      "Name: Faulkner, Population: 123498\n",
      "Name: Baxter, Population: 41627\n",
      "Name: Little River, Population: 12026\n",
      "Name: Boone, Population: 37373\n",
      "Name: Ashley, Population: 19062\n",
      "Name: Desha, Population: 11395\n",
      "Name: St. Francis, Population: 23090\n",
      "Name: Montgomery, Population: 8484\n",
      "Name: Sharp, Population: 17271\n",
      "Name: Greene, Population: 45736\n",
      "Name: Woodruff, Population: 6269\n",
      "Name: White, Population: 76822\n",
      "Name: Lee, Population: 8600\n",
      "Name: Conway, Population: 20715\n",
      "Name: Howard, Population: 12785\n",
      "Name: Nevada, Population: 8310\n",
      "Name: Pulaski, Population: 399125\n",
      "Name: Grant, Population: 17958\n",
      "Name: Benton, Population: 284333\n",
      "Name: Madison, Population: 16521\n",
      "Name: Dallas, Population: 6482\n",
      "Name: Cleveland, Population: 7550\n",
      "Name: Crittenden, Population: 48163\n",
      "Name: Lafayette, Population: 6308\n",
      "Name: Saline, Population: 123416\n",
      "Name: Chicot, Population: 10208\n",
      "Name: Pope, Population: 63381\n",
      "Name: Marion, Population: 16826\n",
      "Name: Prairie, Population: 8282\n",
      "Name: Bradley, Population: 10545\n",
      "Name: Drew, Population: 17350\n",
      "Name: Pike, Population: 10171\n",
      "Name: Union, Population: 39054\n",
      "Name: Sebastian, Population: 127799\n",
      "Name: Lawrence, Population: 16216\n",
      "Name: Poinsett, Population: 22965\n",
      "Name: Hempstead, Population: 20065\n",
      "Name: Stone, Population: 12359\n",
      "Name: Polk, Population: 19221\n",
      "Name: Independence, Population: 37938\n",
      "Name: Lonoke, Population: 74015\n",
      "Name: Clark, Population: 21446\n",
      "Name: Fulton, Population: 12075\n",
      "Name: Logan, Population: 21131\n",
      "Name: Miller, Population: 42600\n",
      "Name: Arkansas, Population: 17149\n",
      "Name: Carroll, Population: 28260\n",
      "Name: Van Buren, Population: 15796\n",
      "Name: Johnson, Population: 25749\n",
      "Name: Searcy, Population: 7828\n",
      "Name: Garland, Population: 100180\n",
      "Name: Sevier, Population: 15839\n",
      "Name: Jefferson, Population: 67260\n",
      "Name: Lincoln, Population: 12941\n",
      "Name: Randolph, Population: 18571\n",
      "Name: Izard, Population: 13577\n",
      "Name: Scott, Population: 9836\n",
      "Name: Perry, Population: 10019\n",
      "Name: Craighead, Population: 111231\n",
      "Name: Cleburne, Population: 24711\n",
      "Name: Hot Spring, Population: 33040\n",
      "Name: Columbia, Population: 22801\n",
      "Name: Ouachita, Population: 22650\n",
      "Name: Yell, Population: 20263\n",
      "Name: Monroe, Population: 6799\n",
      "Name: Mississippi, Population: 40685\n",
      "Name: Washington, Population: 245871\n",
      "Name: Newton, Population: 7225\n",
      "Name: Calhoun, Population: 4739\n",
      "Name: Cross, Population: 16833\n",
      "Name: Phillips, Population: 16568\n"
     ]
    }
   ],
   "source": [
    "# get total population from P0010001 to TOTPOP for all nodes\n",
    "for node in G.nodes:\n",
    "    G.nodes[node]['TOTPOP'] = G.nodes[node]['P0010001']\n",
    "    print(f\"Name: {G.nodes[node]['NAME20']}, Population: {G.nodes[node]['TOTPOP']}\")"
   ]
  },
  {
   "cell_type": "code",
   "execution_count": 19,
   "metadata": {},
   "outputs": [
    {
     "name": "stdout",
     "output_type": "stream",
     "text": [
      "Lower Bound L = 749117\n",
      "Upper Bound U = 756645\n",
      "Number of Districts k = 4\n"
     ]
    }
   ],
   "source": [
    "# we want a 1% population deviation\n",
    "deviation = 0.01\n",
    "\n",
    "# 4 districts for Arkansas, find ideal population for each\n",
    "k = 4\n",
    "total_pop = sum(G.nodes[i]['TOTPOP'] for i in G.nodes)\n",
    "ideal_pop = total_pop / k\n",
    "\n",
    "# defining upper and lower bounds for our district populations\n",
    "L = math.ceil((1 - deviation / 2) * ideal_pop)\n",
    "U = math.floor((1 + deviation / 2) * ideal_pop)\n",
    "print(f'Lower Bound L = {L}\\nUpper Bound U = {U}\\nNumber of Districts k = {k}')"
   ]
  },
  {
   "cell_type": "code",
   "execution_count": 20,
   "metadata": {},
   "outputs": [],
   "source": [
    "# create our gurobi model\n",
    "m = gp.Model()\n",
    "\n",
    "# add variables\n",
    "x = m.addVars(G.nodes, k, vtype=GRB.BINARY)  # x[i,j] = 1 if i is assigned to district j\n",
    "y = m.addVars(G.edges, vtype=GRB.BINARY)  # y[u,v] = 1 when edge {u,v} is cut"
   ]
  },
  {
   "cell_type": "code",
   "execution_count": 21,
   "metadata": {},
   "outputs": [],
   "source": [
    "# SET OBJECTIVE - to minimize cut edges\n",
    "m.setObjective(gp.quicksum(y[u,v] for u,v in G.edges), GRB.MINIMIZE)"
   ]
  },
  {
   "cell_type": "code",
   "execution_count": 22,
   "metadata": {},
   "outputs": [],
   "source": [
    "# ADD CONSTRAINTS\n",
    "# each county i must be assigned to exactly one district\n",
    "m.addConstrs(gp.quicksum(x[i,j] for j in range(k)) == 1 for i in G.nodes)\n",
    "\n",
    "# each district has a population of at least L and at most U\n",
    "m.addConstrs(gp.quicksum( G.nodes[i]['TOTPOP'] * x[i,j] for i in G.nodes) >= L for j in range(k))\n",
    "m.addConstrs(gp.quicksum( G.nodes[i]['TOTPOP'] * x[i,j] for i in G.nodes) <= U for j in range(k))\n",
    "\n",
    "# edge {u,v} is said to be cut if u is assigned to district j but v is not.\n",
    "m.addConstrs(x[u,j] - x[v,j] <= y[u,v] for u,v in G.edges for j in range(k))\n",
    "\n",
    "m.update()"
   ]
  },
  {
   "cell_type": "code",
   "execution_count": 23,
   "metadata": {},
   "outputs": [],
   "source": [
    "# Add root variables: r[i,j] equals 1 if node i is the \"root\" of district j\n",
    "r = m.addVars(G.nodes, k, vtype=GRB.BINARY)\n",
    "\n",
    "# Add flow variables: f[u,v] = amount of flow sent across arc uv \n",
    "import networkx as nx\n",
    "DG = nx.DiGraph(G)      # directed version of G\n",
    "f = m.addVars(DG.edges)"
   ]
  },
  {
   "cell_type": "code",
   "execution_count": 24,
   "metadata": {},
   "outputs": [],
   "source": [
    "# implement the big-M proposed by Hojny et al.\n",
    "M = G.number_of_nodes() - k + 1\n",
    "\n",
    "# each district j must have one root\n",
    "m.addConstrs(gp.quicksum( r[i,j] for i in G.nodes ) == 1 for j in range(k) )\n",
    "\n",
    "# node i must be assigned to district j to serve as its root\n",
    "m.addConstrs(r[i,j] <= x[i,j] for i in G.nodes for j in range(k)) \n",
    "\n",
    "# if not a root, consume some flow\n",
    "# if a root, only send out (so much) flow\n",
    "m.addConstrs(gp.quicksum( f[j,i] - f[i,j] for j in G.neighbors(i)) \n",
    "             >= 1 - M * gp.quicksum( r[i,j] for j in range(k) ) for i in G.nodes)\n",
    "\n",
    "# flow can't be sent across cut edges\n",
    "m.addConstrs(f[i,j] + f[j,i] <= M * ( 1 - y[i,j] ) for i,j in G.edges)\n",
    "\n",
    "m.update()"
   ]
  },
  {
   "cell_type": "code",
   "execution_count": 25,
   "metadata": {},
   "outputs": [
    {
     "name": "stdout",
     "output_type": "stream",
     "text": [
      "Gurobi Optimizer version 10.0.3 build v10.0.3rc0 (win64)\n",
      "\n",
      "CPU model: Intel(R) Core(TM) i9-10885H CPU @ 2.40GHz, instruction set [SSE2|AVX|AVX2]\n",
      "Thread count: 8 physical cores, 16 logical processors, using up to 16 threads\n",
      "\n",
      "Optimize a model with 1422 rows, 1176 columns and 5748 nonzeros\n",
      "Model fingerprint: 0xa1a4a853\n",
      "Variable types: 384 continuous, 792 integer (792 binary)\n",
      "Coefficient statistics:\n",
      "  Matrix range     [1e+00, 4e+05]\n",
      "  Objective range  [1e+00, 1e+00]\n",
      "  Bounds range     [1e+00, 1e+00]\n",
      "  RHS range        [1e+00, 8e+05]\n",
      "Presolve time: 0.02s\n",
      "Presolved: 1422 rows, 1176 columns, 5748 nonzeros\n",
      "Variable types: 384 continuous, 792 integer (792 binary)\n",
      "\n",
      "Root relaxation: objective 0.000000e+00, 581 iterations, 0.02 seconds (0.01 work units)\n",
      "\n",
      "    Nodes    |    Current Node    |     Objective Bounds      |     Work\n",
      " Expl Unexpl |  Obj  Depth IntInf | Incumbent    BestBd   Gap | It/Node Time\n",
      "\n",
      "     0     0    0.00000    0  316          -    0.00000      -     -    0s\n",
      "     0     0    1.10613    0  333          -    1.10613      -     -    0s\n",
      "     0     0    3.93013    0  322          -    3.93013      -     -    0s\n",
      "     0     0    4.34882    0  327          -    4.34882      -     -    0s\n",
      "     0     0    4.39393    0  327          -    4.39393      -     -    0s\n",
      "     0     0    4.40626    0  327          -    4.40626      -     -    0s\n",
      "     0     0    4.41369    0  325          -    4.41369      -     -    0s\n",
      "     0     0    4.41843    0  325          -    4.41843      -     -    0s\n",
      "     0     0    5.48044    0  333          -    5.48044      -     -    0s\n",
      "     0     0    5.48044    0  327          -    5.48044      -     -    0s\n",
      "     0     0    5.48044    0  326          -    5.48044      -     -    0s\n",
      "     0     0    5.48044    0  330          -    5.48044      -     -    0s\n",
      "     0     0    5.48044    0  324          -    5.48044      -     -    0s\n",
      "     0     0    5.48044    0  323          -    5.48044      -     -    0s\n",
      "     0     0    5.48044    0  322          -    5.48044      -     -    0s\n",
      "     0     0    5.48044    0  321          -    5.48044      -     -    0s\n",
      "     0     2    5.48044    0  316          -    5.48044      -     -    0s\n",
      "  1615  1505   29.77314   20  219          -   13.20949      -  24.4    5s\n",
      "  4944  3560   38.32100   45  136          -   13.75665      -  68.7   10s\n",
      " 10104  7844   38.85963   39  179          -   14.83873      -  71.6   15s\n",
      " 17394 14094 infeasible   82               -   17.74553      -  74.9   20s\n",
      " 22148 18884   36.69777   42   80          -   18.39439      -  76.3   25s\n",
      " 29008 24016   32.48519   30  293          -   18.76367      -  75.9   30s\n",
      " 37098 30589   35.32306   28  279          -   19.79363      -  75.5   35s\n",
      " 41752 35238   26.02212   25  323          -   20.18124      -  75.4   47s\n",
      " 44957 36411   47.69720   50   41          -   20.32936      -  75.5   50s\n",
      " 51321 42251   48.95213  107   38          -   20.63836      -  75.4   55s\n",
      " 59281 48768   31.55295   24  248          -   21.05458      -  75.8   61s\n",
      " 65912 53901   33.82156   34  175          -   21.46609      -  75.7   65s\n",
      " 72089 57735   56.87303   57   88          -   21.61349      -  75.8   70s\n",
      " 78822 64402   61.59285   69  162          -   21.84283      -  76.1   75s\n",
      " 85712 69340   45.83118   47  184          -   22.10381      -  76.1   80s\n",
      " 92392 75215   31.71111   31  290          -   22.18324      -  76.4   85s\n",
      " 97615 78198   41.97011   40  223          -   22.39158      -  76.3   90s\n",
      " 104692 85384   50.46371   65   53          -   22.59222      -  76.3   96s\n",
      " 111176 90139   29.66505   25  301          -   22.67236      -  76.4  100s\n",
      " 117281 94816   55.61518   49  145          -   22.83345      -  76.5  105s\n",
      " 124845 100145   40.54902   32  229          -   23.00706      -  76.9  111s\n",
      " 128629 104188   28.91363   26  323          -   23.10484      -  77.1  115s\n",
      "*132128 39885              41      44.0000000   23.16625  47.3%  77.4  118s\n",
      " 133550 39076   40.64504   34  171   44.00000   23.20685  47.3%  77.3  120s\n",
      "H134277 35495                      43.0000000   23.20935  46.0%  77.3  120s\n",
      "H136815 30309                      41.0000000   23.37787  43.0%  77.6  124s\n",
      "H137006 27349                      40.0000000   23.38997  41.5%  77.6  124s\n",
      " 137515 27369   24.19952   27  312   40.00000   23.41390  41.5%  77.6  128s\n",
      "H137516 16828                      36.0000000   23.41390  35.0%  77.6  128s\n",
      " 137720 16933   25.27922   28  293   36.00000   23.41832  34.9%  77.7  130s\n",
      " 139630 17934   28.80213   27  307   36.00000   23.63706  34.3%  77.9  135s\n",
      " 143804 19375   33.68635   31  294   36.00000   23.93517  33.5%  78.5  140s\n",
      " 147406 20959   34.62490   29  254   36.00000   24.15488  32.9%  78.8  145s\n",
      " 151105 22123   30.34331   32  288   36.00000   24.34992  32.4%  79.2  150s\n",
      " 152896 22580   28.21315   24  299   36.00000   24.45413  32.1%  79.4  155s\n",
      " 158010 24204   31.15714   23  323   36.00000   24.70498  31.4%  79.8  161s\n",
      " 162981 25607   29.62254   30  219   36.00000   24.90707  30.8%  80.3  166s\n",
      " 166360 26734   31.97588   40  155   36.00000   25.04756  30.4%  80.6  170s\n",
      " 172331 28274   34.06298   29  279   36.00000   25.26237  29.8%  81.0  176s\n",
      " 175427 29057     cutoff   30        36.00000   25.37268  29.5%  81.2  180s\n",
      " 180005 30432     cutoff   32        36.00000   25.50289  29.2%  81.6  186s\n",
      " 183551 31441   32.52401   29  284   36.00000   25.61871  28.8%  81.9  190s\n",
      " 188611 32729     cutoff   35        36.00000   25.76354  28.4%  82.2  195s\n",
      " 193140 33888   34.70268   29  238   36.00000   25.89141  28.1%  82.4  200s\n",
      " 197790 35066     cutoff   35        36.00000   25.99577  27.8%  82.6  205s\n",
      " 201970 36233   31.82581   34  177   36.00000   26.11309  27.5%  82.8  211s\n",
      " 206973 37352   30.93501   33  216   36.00000   26.24075  27.1%  83.1  216s\n",
      " 208723 37712   33.45842   34  165   36.00000   26.27664  27.0%  83.2  221s\n",
      " 213390 38753     cutoff   31        36.00000   26.39438  26.7%  83.4  225s\n",
      " 218285 39952     cutoff   31        36.00000   26.49946  26.4%  83.6  230s\n",
      " 223011 40912   34.13659   32  190   36.00000   26.59062  26.1%  83.8  235s\n",
      " 227872 42012     cutoff   44        36.00000   26.72550  25.8%  84.0  241s\n",
      " 232494 42981     cutoff   35        36.00000   26.82877  25.5%  84.1  245s\n",
      " 237779 43966     cutoff   29        36.00000   26.92418  25.2%  84.2  251s\n",
      " 242373 44752   30.57574   26  279   36.00000   26.99550  25.0%  84.3  256s\n",
      " 247405 45705   32.29508   30  289   36.00000   27.09567  24.7%  84.4  261s\n",
      " 252170 46529   31.77504   33  287   36.00000   27.19242  24.5%  84.6  266s\n",
      " 257131 47446   28.30055   27  230   36.00000   27.28873  24.2%  84.7  271s\n",
      " 262048 48193     cutoff   35        36.00000   27.36604  24.0%  84.8  277s\n",
      " 264801 48784   32.80902   39   65   36.00000   27.41260  23.9%  84.8  280s\n",
      " 269767 49590   34.50532   28  321   36.00000   27.49085  23.6%  84.9  286s\n",
      " 274510 50472   34.27828   34  286   36.00000   27.56710  23.4%  85.0  291s\n",
      " 279345 51247   31.71641   30  329   36.00000   27.64621  23.2%  85.0  296s\n",
      " 284436 52163   32.96504   37  261   36.00000   27.74108  22.9%  85.1  300s\n",
      " 289376 52832   33.79656   31  233   36.00000   27.81121  22.7%  85.1  305s\n",
      " 293639 53558   34.47036   35  181   36.00000   27.87022  22.6%  85.1  311s\n",
      " 296577 54141   32.81652   33  173   36.00000   27.91244  22.5%  85.2  315s\n",
      " 301813 54881     cutoff   33        36.00000   27.97897  22.3%  85.2  321s\n",
      " 305044 55357     cutoff   36        36.00000   28.03326  22.1%  85.2  325s\n",
      " 310129 56209   32.98083   28  265   36.00000   28.10730  21.9%  85.2  332s\n",
      " 311894 56420   34.40667   26  311   36.00000   28.13014  21.9%  85.2  335s\n",
      " 315320 56917   33.95478   33  128   36.00000   28.17514  21.7%  85.2  340s\n",
      " 318440 57392   31.82544   27  192   36.00000   28.21680  21.6%  85.2  346s\n",
      " 321630 57867   30.93120   24  269   36.00000   28.25730  21.5%  85.2  352s\n",
      " 324966 58204     cutoff   36        36.00000   28.29993  21.4%  85.2  357s\n",
      " 327968 58692     cutoff   34        36.00000   28.33422  21.3%  85.2  361s\n",
      " 331052 59188   34.82056   36  140   36.00000   28.37215  21.2%  85.2  365s\n",
      " 335973 59830   34.73841   37  262   36.00000   28.43649  21.0%  85.2  371s\n",
      " 339273 60258   34.32645   27  240   36.00000   28.47956  20.9%  85.2  375s\n",
      " 344149 60905   34.43138   39  281   36.00000   28.53316  20.7%  85.2  382s\n",
      " 347325 61419     cutoff   33        36.00000   28.57041  20.6%  85.2  385s\n",
      " 352392 61963   33.11141   36  264   36.00000   28.62604  20.5%  85.2  391s\n",
      " 355876 62441     cutoff   34        36.00000   28.66752  20.4%  85.1  395s\n",
      " 360683 62964     cutoff   32        36.00000   28.72725  20.2%  85.2  401s\n",
      " 365458 63609   31.02096   31  217   36.00000   28.77836  20.1%  85.2  406s\n",
      " 368767 63941   34.30057   37  210   36.00000   28.81367  20.0%  85.1  410s\n",
      " 373859 64447     cutoff   32        36.00000   28.86320  19.8%  85.1  417s\n",
      " 376556 64885   33.78921   27  320   36.00000   28.89506  19.7%  85.1  421s\n",
      " 379925 65279     cutoff   32        36.00000   28.93352  19.6%  85.1  425s\n",
      " 384937 65905   33.71145   32  272   36.00000   28.98235  19.5%  85.0  430s\n",
      " 389825 66375   34.92144   33  212   36.00000   29.03027  19.4%  85.0  436s\n",
      " 394700 66962   34.29556   31  330   36.00000   29.07636  19.2%  84.9  441s\n",
      " 399482 67386     cutoff   35        36.00000   29.12168  19.1%  84.9  446s\n",
      " 404492 67956     cutoff   30        36.00000   29.16986  19.0%  84.8  451s\n",
      " 407265 68303     cutoff   38        36.00000   29.19706  18.9%  84.8  455s\n",
      " 413972 69012   33.24338   30  160   36.00000   29.25786  18.7%  84.8  461s\n",
      " 419057 69471   32.81073   42  182   36.00000   29.30446  18.6%  84.7  466s\n",
      " 424023 69867   34.52477   30  289   36.00000   29.34880  18.5%  84.7  470s\n",
      " 429007 70363   30.93191   31  192   36.00000   29.38877  18.4%  84.6  475s\n",
      " 433754 70810   32.50854   31  232   36.00000   29.42602  18.3%  84.5  480s\n",
      " 440058 71326   33.47758   30  243   36.00000   29.47818  18.1%  84.5  485s\n",
      " 445081 71801   33.96791   37  253   36.00000   29.52039  18.0%  84.4  490s\n",
      " 449956 72264   34.83326   31  240   36.00000   29.56588  17.9%  84.4  495s\n",
      " 454630 72703   31.55938   36  180   36.00000   29.60665  17.8%  84.3  500s\n",
      " 461172 73258     cutoff   26        36.00000   29.66231  17.6%  84.2  506s\n",
      " 466181 73629   34.33419   37  235   36.00000   29.69845  17.5%  84.2  510s\n",
      " 470632 73935   32.51439   29  259   36.00000   29.72934  17.4%  84.1  515s\n",
      " 475513 74392   34.83533   36  158   36.00000   29.77575  17.3%  84.0  520s\n",
      " 482270 74961   31.41406   27  267   36.00000   29.82986  17.1%  84.0  526s\n",
      " 487589 75431     cutoff   34        36.00000   29.86606  17.0%  83.9  531s\n",
      " 492317 75753   34.16401   33   87   36.00000   29.90030  16.9%  83.8  536s\n",
      " 495883 76137     cutoff   44        36.00000   29.92593  16.9%  83.8  541s\n",
      " 500763 76410   32.11861   28  263   36.00000   29.96428  16.8%  83.7  545s\n",
      " 505626 76821     cutoff   42        36.00000   30.00184  16.7%  83.7  550s\n",
      " 510696 77097   33.78018   36  230   36.00000   30.03674  16.6%  83.6  555s\n",
      " 517030 77530     cutoff   33        36.00000   30.07793  16.5%  83.5  561s\n",
      " 521943 77830   33.05168   32  159   36.00000   30.11123  16.4%  83.5  565s\n",
      " 526933 78149     cutoff   35        36.00000   30.14591  16.3%  83.4  570s\n",
      " 532450 78557   32.71589   34  255   36.00000   30.18442  16.2%  83.3  576s\n",
      " 537659 78854   32.34699   40  183   36.00000   30.22067  16.1%  83.3  581s\n",
      "*539242 33097              45      33.0000000   30.22395  8.41%  83.3  581s\n",
      " 540766 31882     cutoff   33        33.00000   30.25065  8.33%  83.2  585s\n",
      " 545656 29766   31.62017   33  215   33.00000   30.39959  7.88%  83.1  590s\n",
      " 550913 27397     cutoff   27        33.00000   30.53639  7.47%  82.9  595s\n",
      " 557955 23884     cutoff   31        33.00000   30.73676  6.86%  82.7  601s\n",
      " 562946 21005     cutoff   32        33.00000   30.89101  6.39%  82.5  605s\n",
      " 570221 16358     cutoff   35        33.00000   31.13559  5.65%  82.1  611s\n",
      " 577790 10633     cutoff   30        33.00000   31.42122  4.78%  81.7  616s\n",
      " 586607  1618     cutoff   32        33.00000   31.79262  3.66%  80.9  620s\n",
      "\n",
      "Cutting planes:\n",
      "  Gomory: 29\n",
      "  Cover: 1\n",
      "  MIR: 2\n",
      "  Flow cover: 4\n",
      "  RLT: 20\n",
      "\n",
      "Explored 591002 nodes (47704590 simplex iterations) in 621.47 seconds (490.74 work units)\n",
      "Thread count was 16 (of 16 available processors)\n",
      "\n",
      "Solution count 7: 33 33 36 ... 44\n",
      "\n",
      "Optimal solution found (tolerance 1.00e-04)\n",
      "Best objective 3.300000000000e+01, best bound 3.300000000000e+01, gap 0.0000%\n"
     ]
    }
   ],
   "source": [
    "# solve our generated IP model\n",
    "m.optimize()"
   ]
  },
  {
   "cell_type": "code",
   "execution_count": 26,
   "metadata": {},
   "outputs": [
    {
     "name": "stdout",
     "output_type": "stream",
     "text": [
      "The number of cut edges is 33.0\n",
      "District 0 has population 751754 and contains counties ['Franklin', 'Crawford', 'Benton', 'Madison', 'Sebastian', 'Washington']\n",
      "\n",
      "District 1 has population 754435 and contains counties ['Jackson', 'Clay', 'Baxter', 'Boone', 'St. Francis', 'Sharp', 'Greene', 'Woodruff', 'White', 'Lee', 'Crittenden', 'Marion', 'Prairie', 'Lawrence', 'Poinsett', 'Stone', 'Independence', 'Fulton', 'Carroll', 'Van Buren', 'Searcy', 'Randolph', 'Izard', 'Craighead', 'Cleburne', 'Monroe', 'Mississippi', 'Newton', 'Cross']\n",
      "\n",
      "District 2 has population 750788 and contains counties ['Faulkner', 'Conway', 'Pulaski', 'Saline', 'Lonoke', 'Perry']\n",
      "\n",
      "District 3 has population 754547 and contains counties ['Little River', 'Ashley', 'Desha', 'Montgomery', 'Howard', 'Nevada', 'Grant', 'Dallas', 'Cleveland', 'Lafayette', 'Chicot', 'Pope', 'Bradley', 'Drew', 'Pike', 'Union', 'Hempstead', 'Polk', 'Clark', 'Logan', 'Miller', 'Arkansas', 'Johnson', 'Garland', 'Sevier', 'Jefferson', 'Lincoln', 'Scott', 'Hot Spring', 'Columbia', 'Ouachita', 'Yell', 'Calhoun', 'Phillips']\n",
      "\n"
     ]
    }
   ],
   "source": [
    "# print objective value - the number of cut edegs\n",
    "print(\"The number of cut edges is\",m.objval)\n",
    "\n",
    "# retrieve the districts and their populations\n",
    "districts = [[i for i in G.nodes if x[i,j].x > 0.5] for j in range(k)]\n",
    "district_counties = [[G.nodes[i][\"NAME20\"] for i in districts[j]] for j in range(k)]\n",
    "district_populations = [sum(G.nodes[i][\"TOTPOP\"] for i in districts[j]) for j in range(k)]\n",
    "\n",
    "# print district info\n",
    "for j in range(k):\n",
    "    print(\"District\",j,\"has population\",district_populations[j],\"and contains counties\",district_counties[j])\n",
    "    print(\"\")"
   ]
  },
  {
   "cell_type": "code",
   "execution_count": 27,
   "metadata": {},
   "outputs": [],
   "source": [
    "# VISUALIZE SOLUTION ON A MAP\n",
    "import geopandas as gpd\n",
    "\n",
    "# Read and compile Arkansas county shapefile\n",
    "filepath = '/spfda/datas/AR_county.shp'\n",
    "df = gpd.read_file(filepath)"
   ]
  },
  {
   "cell_type": "code",
   "execution_count": 28,
   "metadata": {},
   "outputs": [
    {
     "data": {
      "image/png": "[encoded data removed]",
      "text/plain": [
       "<Figure size 432x288 with 1 Axes>"
      ]
     },
     "metadata": {
      "needs_background": "light"
     },
     "output_type": "display_data"
    }
   ],
   "source": [
    "# Which district is each county assigned to?\n",
    "assignment = [-1 for i in G.nodes]\n",
    "labeling = {i : j for i in G.nodes for j in range(k) if x[i,j].x > 0.5}\n",
    "\n",
    "# Now add the assignments to a column of the dataframe and map it\n",
    "node_with_this_geoid = {G.nodes[i]['GEOID20'] : i for i in G.nodes}\n",
    "\n",
    "# pick a position u in the dataframe\n",
    "for u in range(G.number_of_nodes()):\n",
    "    \n",
    "    geoid = df['GEOID20'][u]\n",
    "    \n",
    "    # what node in G has this geoid?\n",
    "    i = node_with_this_geoid[geoid]\n",
    "    \n",
    "    # position u in the dataframe should be given\n",
    "    # the same district # that county i has in 'labeling'\n",
    "    assignment[u] = labeling[i]\n",
    "    \n",
    "# now add the assignments to a column of our dataframe and then map it\n",
    "df['assignment'] = assignment\n",
    "\n",
    "my_fig = df.plot(column='assignment').get_figure()"
   ]
  }
 ],
 "metadata": {
  "kernelspec": {
   "display_name": "base",
   "language": "python",
   "name": "python3"
  },
  "language_info": {
   "codemirror_mode": {
    "name": "ipython",
    "version": 3
   },
   "file_extension": ".py",
   "mimetype": "text/x-python",
   "name": "python",
   "nbconvert_exporter": "python",
   "pygments_lexer": "ipython3",
   "version": "3.9.7"
  }
 },
 "nbformat": 4,
 "nbformat_minor": 2
}
