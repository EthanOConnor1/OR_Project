{
 "cells": [
  {
   "cell_type": "code",
   "execution_count": 1,
   "metadata": {},
   "outputs": [],
   "source": [
    "# import files and define a function for reading our .json\n",
    "import json\n",
    "from networkx.readwrite import json_graph\n",
    "\n",
    "def read_graph_from_json(json_file):\n",
    "    with open(json_file) as f:\n",
    "        data = json.load(f)\n",
    "    return json_graph.adjacency_graph(data) "
   ]
  },
  {
   "cell_type": "code",
   "execution_count": 3,
   "metadata": {},
   "outputs": [],
   "source": [
    "# import file with Arkansas data to a graph\n",
    "file_path = '/spfda/datas/AR_county.json'\n",
    "G = read_graph_from_json(file_path)\n",
    "\n",
    "for node in G.nodes:\n",
    "    G.nodes[node]['TOTPOP'] = G.nodes[node]['P0010001'] # population of county\n",
    "    G.nodes[node]['C_X'] = G.nodes[node]['INTPTLON20']  # longitude of county's center\n",
    "    G.nodes[node]['C_Y'] = G.nodes[node]['INTPTLAT20']  # latitude of county's center"
   ]
  },
  {
   "cell_type": "code",
   "execution_count": 5,
   "metadata": {},
   "outputs": [],
   "source": [
    "from geopy.distance import geodesic\n",
    "\n",
    "# create a distance dictionary\n",
    "dist = { (i,j) : 0 for i in G.nodes for j in G.nodes }\n",
    "for i in G.nodes:\n",
    "    for j in G.nodes:\n",
    "        loc_i = ( G.nodes[i]['C_Y'], G.nodes[i]['C_X'] )\n",
    "        loc_j = ( G.nodes[j]['C_Y'], G.nodes[j]['C_X'] )\n",
    "        dist[i,j] = geodesic(loc_i,loc_j).miles"
   ]
  },
  {
   "cell_type": "code",
   "execution_count": 6,
   "metadata": {},
   "outputs": [
    {
     "name": "stdout",
     "output_type": "stream",
     "text": [
      "Using L = 745353 and U = 760409 and k = 4\n"
     ]
    }
   ],
   "source": [
    "# we want a 1% population deviation\n",
    "deviation = 0.01\n",
    "\n",
    "import math\n",
    "k = 4         # number of districts - 4 for AR\n",
    "total_population = sum( G.nodes[node]['TOTPOP'] for node in G.nodes)\n",
    "\n",
    "L = math.ceil( ( 1 - deviation / 2 ) * total_population / k )\n",
    "U = math.floor( ( 1 + deviation / 2 ) * total_population / k )\n",
    "print(\"Using L =\",L,\"and U =\",U,\"and k =\",k)"
   ]
  },
  {
   "cell_type": "code",
   "execution_count": 7,
   "metadata": {},
   "outputs": [
    {
     "name": "stdout",
     "output_type": "stream",
     "text": [
      "Set parameter Username\n",
      "Academic license - for non-commercial use only - expires 2024-11-27\n"
     ]
    }
   ],
   "source": [
    "import gurobipy as gp\n",
    "from gurobipy import GRB\n",
    "\n",
    "# create gurobi model \n",
    "m = gp.Model()\n",
    "\n",
    "# create x[i,j] variable which equals one when county i is assigned to (the district centered at) county j\n",
    "x = m.addVars(G.nodes, G.nodes, vtype=GRB.BINARY)"
   ]
  },
  {
   "cell_type": "code",
   "execution_count": 8,
   "metadata": {},
   "outputs": [],
   "source": [
    "# objective is to minimize the moment of inertia: sum (d^2 * p * x over all i and j)\n",
    "m.setObjective(gp.quicksum(dist[i,j] * dist[i,j] * G.nodes[i]['TOTPOP'] * x[i,j] for i in G.nodes for j in G.nodes ), GRB.MINIMIZE)"
   ]
  },
  {
   "cell_type": "code",
   "execution_count": 9,
   "metadata": {},
   "outputs": [],
   "source": [
    "# add constraints saying that each county i is assigned to one district\n",
    "m.addConstrs(gp.quicksum( x[i,j] for j in G.nodes ) == 1 for i in G.nodes)\n",
    "\n",
    "# add constraint saying there should be k district centers\n",
    "m.addConstr(gp.quicksum( x[j,j] for j in G.nodes ) == k)\n",
    "\n",
    "# add constraints that say: if j roots a district, then its population is between L and U.\n",
    "m.addConstrs(gp.quicksum( G.nodes[i]['TOTPOP'] * x[i,j] for i in G.nodes ) >= L * x[j,j] for j in G.nodes)\n",
    "m.addConstrs(gp.quicksum( G.nodes[i]['TOTPOP'] * x[i,j] for i in G.nodes ) <= U * x[j,j] for j in G.nodes)\n",
    "\n",
    "# add coupling constraints saying that if i is assigned to j, then j is a center.\n",
    "m.addConstrs(x[i,j] <= x[j,j] for i in G.nodes for j in G.nodes)\n",
    "\n",
    "m.update()"
   ]
  },
  {
   "cell_type": "code",
   "execution_count": 10,
   "metadata": {},
   "outputs": [],
   "source": [
    "# add contiguity constraints\n",
    "import networkx as nx\n",
    "DG = nx.DiGraph(G)\n",
    "\n",
    "# add flow variables\n",
    "#    f[i,j,v] = flow across arc (i,j) that is sent from souce/root v\n",
    "f = m.addVars(DG.edges, G.nodes) \n",
    "\n",
    "# add constraints saying that if node i is assigned to node j, \n",
    "#   then node i must consume one unit of node j's flow\n",
    "m.addConstrs(gp.quicksum( f[u,i,j] - f[i,u,j] for u in G.neighbors(i) ) == x[i,j] for i in G.nodes for j in G.nodes if i != j)\n",
    "\n",
    "# add constraints saying that node i can receive flow of type j \n",
    "#   only if node i is assigned to node j\n",
    "M = G.number_of_nodes() - 1\n",
    "m.addConstrs(gp.quicksum( f[u,i,j] for u in G.neighbors(i) ) <= M * x[i,j] for i in G.nodes for j in G.nodes if i != j)\n",
    "\n",
    "# add constraints saying that node j cannot receive flow of its own type\n",
    "m.addConstrs(gp.quicksum( f[u,j,j] for u in G.neighbors(j) ) == 0 for j in G.nodes)\n",
    "\n",
    "m.update()"
   ]
  },
  {
   "cell_type": "code",
   "execution_count": 11,
   "metadata": {},
   "outputs": [
    {
     "name": "stdout",
     "output_type": "stream",
     "text": [
      "Set parameter MIPGap to value 0\n",
      "Gurobi Optimizer version 10.0.3 build v10.0.3rc0 (win64)\n",
      "\n",
      "CPU model: Intel(R) Core(TM) i9-10885H CPU @ 2.40GHz, instruction set [SSE2|AVX|AVX2]\n",
      "Thread count: 8 physical cores, 16 logical processors, using up to 16 threads\n",
      "\n",
      "Optimize a model with 17026 rows, 34425 columns and 124782 nonzeros\n",
      "Model fingerprint: 0x3081c53e\n",
      "Variable types: 28800 continuous, 5625 integer (5625 binary)\n",
      "Coefficient statistics:\n",
      "  Matrix range     [1e+00, 8e+05]\n",
      "  Objective range  [2e+06, 2e+10]\n",
      "  Bounds range     [1e+00, 1e+00]\n",
      "  RHS range        [1e+00, 4e+00]\n",
      "Warning: Model contains large objective coefficients\n",
      "         Consider reformulating model or setting NumericFocus parameter\n",
      "         to avoid numerical issues.\n",
      "Presolve removed 159 rows and 394 columns\n",
      "Presolve time: 0.36s\n",
      "Presolved: 16867 rows, 34031 columns, 123990 nonzeros\n",
      "Variable types: 28406 continuous, 5625 integer (5625 binary)\n",
      "Deterministic concurrent LP optimizer: primal and dual simplex\n",
      "Showing first log only...\n",
      "\n",
      "Concurrent spin time: 0.00s\n",
      "\n",
      "Solved with dual simplex\n",
      "\n",
      "Root relaxation: objective 6.284432e+09, 2276 iterations, 0.45 seconds (0.47 work units)\n",
      "\n",
      "    Nodes    |    Current Node    |     Objective Bounds      |     Work\n",
      " Expl Unexpl |  Obj  Depth IntInf | Incumbent    BestBd   Gap | It/Node Time\n",
      "\n",
      "     0     0 6.2844e+09    0   44          - 6.2844e+09      -     -    1s\n",
      "     0     0 6.3768e+09    0  159          - 6.3768e+09      -     -    2s\n",
      "     0     0 6.3847e+09    0  123          - 6.3847e+09      -     -    2s\n",
      "     0     0 6.3849e+09    0  155          - 6.3849e+09      -     -    2s\n",
      "     0     0 6.4384e+09    0  144          - 6.4384e+09      -     -    3s\n",
      "     0     0 6.4619e+09    0  146          - 6.4619e+09      -     -    3s\n",
      "     0     0 6.4675e+09    0  176          - 6.4675e+09      -     -    3s\n",
      "     0     0 6.4700e+09    0  177          - 6.4700e+09      -     -    3s\n",
      "     0     0 6.4706e+09    0  178          - 6.4706e+09      -     -    3s\n",
      "     0     0 6.4764e+09    0  145          - 6.4764e+09      -     -    4s\n",
      "     0     0 6.4960e+09    0  231          - 6.4960e+09      -     -    4s\n",
      "     0     0 6.5004e+09    0  208          - 6.5004e+09      -     -    4s\n",
      "     0     0 6.5004e+09    0  212          - 6.5004e+09      -     -    4s\n",
      "     0     0 6.5009e+09    0  241          - 6.5009e+09      -     -    4s\n",
      "     0     0 6.5009e+09    0  241          - 6.5009e+09      -     -    4s\n",
      "     0     0 6.5820e+09    0  189          - 6.5820e+09      -     -    5s\n",
      "     0     0 6.5820e+09    0  205          - 6.5820e+09      -     -    5s\n",
      "     0     0 6.5820e+09    0  197          - 6.5820e+09      -     -    5s\n",
      "     0     0 6.5820e+09    0  204          - 6.5820e+09      -     -    5s\n",
      "     0     0 6.5849e+09    0  197          - 6.5849e+09      -     -    5s\n",
      "     0     0 6.5942e+09    0  253          - 6.5942e+09      -     -    5s\n",
      "H    0     0                    7.226179e+09 6.5942e+09  8.75%     -    6s\n",
      "H    0     0                    6.957426e+09 6.5942e+09  5.22%     -    6s\n",
      "     0     0 6.6136e+09    0  222 6.9574e+09 6.6136e+09  4.94%     -    6s\n",
      "     0     0 6.6139e+09    0  228 6.9574e+09 6.6139e+09  4.94%     -    6s\n",
      "     0     0 6.6139e+09    0  241 6.9574e+09 6.6139e+09  4.94%     -    6s\n",
      "     0     0 6.6167e+09    0  242 6.9574e+09 6.6167e+09  4.90%     -    6s\n",
      "     0     0 6.6184e+09    0  242 6.9574e+09 6.6184e+09  4.87%     -    6s\n",
      "     0     0 6.6219e+09    0  243 6.9574e+09 6.6219e+09  4.82%     -    7s\n",
      "     0     0 6.6219e+09    0   44 6.9574e+09 6.6219e+09  4.82%     -    8s\n",
      "     0     0 6.6219e+09    0  135 6.9574e+09 6.6219e+09  4.82%     -    8s\n",
      "     0     0 6.6219e+09    0  169 6.9574e+09 6.6219e+09  4.82%     -    8s\n",
      "     0     0 6.6219e+09    0  217 6.9574e+09 6.6219e+09  4.82%     -    9s\n",
      "     0     0 6.6219e+09    0  202 6.9574e+09 6.6219e+09  4.82%     -    9s\n",
      "     0     0 6.6219e+09    0  249 6.9574e+09 6.6219e+09  4.82%     -    9s\n",
      "     0     0 6.6219e+09    0  247 6.9574e+09 6.6219e+09  4.82%     -    9s\n",
      "     0     0 6.6219e+09    0  246 6.9574e+09 6.6219e+09  4.82%     -    9s\n",
      "     0     0 6.6219e+09    0  263 6.9574e+09 6.6219e+09  4.82%     -    9s\n",
      "     0     0 6.6219e+09    0  228 6.9574e+09 6.6219e+09  4.82%     -    9s\n",
      "     0     0 6.6467e+09    0  250 6.9574e+09 6.6467e+09  4.47%     -    9s\n",
      "H    0     0                    6.903733e+09 6.6467e+09  3.72%     -   10s\n",
      "H    0     0                    6.869772e+09 6.6467e+09  3.25%     -   10s\n",
      "     0     0 6.6509e+09    0  256 6.8698e+09 6.6509e+09  3.19%     -   10s\n",
      "     0     0 6.6524e+09    0  253 6.8698e+09 6.6524e+09  3.16%     -   10s\n",
      "     0     0 6.6769e+09    0  262 6.8698e+09 6.6769e+09  2.81%     -   10s\n",
      "     0     0 6.6769e+09    0   44 6.8698e+09 6.6769e+09  2.81%     -   11s\n",
      "     0     0 6.6769e+09    0  166 6.8698e+09 6.6769e+09  2.81%     -   11s\n",
      "     0     0 6.6769e+09    0  171 6.8698e+09 6.6769e+09  2.81%     -   12s\n",
      "     0     0 6.6769e+09    0  193 6.8698e+09 6.6769e+09  2.81%     -   12s\n",
      "     0     0 6.6769e+09    0  178 6.8698e+09 6.6769e+09  2.81%     -   12s\n",
      "     0     0 6.6769e+09    0  199 6.8698e+09 6.6769e+09  2.81%     -   12s\n",
      "     0     0 6.6769e+09    0  195 6.8698e+09 6.6769e+09  2.81%     -   12s\n",
      "     0     0 6.6769e+09    0  198 6.8698e+09 6.6769e+09  2.81%     -   12s\n",
      "     0     0 6.6769e+09    0  222 6.8698e+09 6.6769e+09  2.81%     -   12s\n",
      "     0     0 6.6769e+09    0  224 6.8698e+09 6.6769e+09  2.81%     -   12s\n",
      "     0     0 6.6769e+09    0  221 6.8698e+09 6.6769e+09  2.81%     -   12s\n",
      "     0     0 6.6769e+09    0  228 6.8698e+09 6.6769e+09  2.81%     -   12s\n",
      "     0     0 6.6769e+09    0  226 6.8698e+09 6.6769e+09  2.81%     -   12s\n",
      "H    0     0                    6.806511e+09 6.6880e+09  1.74%     -   13s\n",
      "     0     0 6.6881e+09    0  246 6.8065e+09 6.6881e+09  1.74%     -   13s\n",
      "     0     0 6.6928e+09    0  249 6.8065e+09 6.6928e+09  1.67%     -   13s\n",
      "     0     0 6.6944e+09    0  241 6.8065e+09 6.6944e+09  1.65%     -   13s\n",
      "     0     0 6.6944e+09    0  170 6.8065e+09 6.6944e+09  1.65%     -   14s\n",
      "     0     0 6.6944e+09    0  184 6.8065e+09 6.6944e+09  1.65%     -   14s\n",
      "     0     0 6.6944e+09    0  230 6.8065e+09 6.6944e+09  1.65%     -   14s\n",
      "     0     0 6.6944e+09    0  252 6.8065e+09 6.6944e+09  1.65%     -   14s\n",
      "     0     0 6.6944e+09    0  248 6.8065e+09 6.6944e+09  1.65%     -   14s\n",
      "     0     0 6.6944e+09    0  249 6.8065e+09 6.6944e+09  1.65%     -   14s\n",
      "     0     0 6.6944e+09    0  260 6.8065e+09 6.6944e+09  1.65%     -   14s\n",
      "     0     0 6.6944e+09    0  268 6.8065e+09 6.6944e+09  1.65%     -   14s\n",
      "     0     0 6.6944e+09    0  250 6.8065e+09 6.6944e+09  1.65%     -   14s\n",
      "     0     0 6.6944e+09    0  250 6.8065e+09 6.6944e+09  1.65%     -   14s\n",
      "     0     0 6.6944e+09    0  283 6.8065e+09 6.6944e+09  1.65%     -   14s\n",
      "H    0     0                    6.796391e+09 6.6944e+09  1.50%     -   14s\n",
      "     0     0 6.6944e+09    0  290 6.7964e+09 6.6944e+09  1.50%     -   15s\n",
      "     0     0 6.6962e+09    0  289 6.7964e+09 6.6962e+09  1.47%     -   15s\n",
      "     0     0 6.7022e+09    0  288 6.7964e+09 6.7022e+09  1.39%     -   15s\n",
      "\n",
      "Cutting planes:\n",
      "  Gomory: 3\n",
      "  Cover: 25\n",
      "  Implied bound: 4\n",
      "  Clique: 2\n",
      "  MIR: 10\n",
      "  StrongCG: 3\n",
      "  Flow cover: 41\n",
      "  GUB cover: 3\n",
      "  Inf proof: 2\n",
      "  Network: 2\n",
      "  RLT: 5\n",
      "  Relax-and-lift: 1\n",
      "\n",
      "Explored 1 nodes (14975 simplex iterations) in 15.31 seconds (9.52 work units)\n",
      "Thread count was 16 (of 16 available processors)\n",
      "\n",
      "Solution count 6: 6.79639e+09 6.80651e+09 6.86977e+09 ... 7.22618e+09\n",
      "\n",
      "Optimal solution found (tolerance 0.00e+00)\n",
      "Best objective 6.796391056618e+09, best bound 6.796391056618e+09, gap 0.0000%\n"
     ]
    }
   ],
   "source": [
    "# solve, making sure to set a 0.00% MIP gap tolerance\n",
    "m.Params.MIPGap = 0.0\n",
    "\n",
    "m.optimize()"
   ]
  },
  {
   "cell_type": "code",
   "execution_count": 12,
   "metadata": {},
   "outputs": [
    {
     "name": "stdout",
     "output_type": "stream",
     "text": [
      "6796391056.618258\n",
      "District 0 has population 748859 and contains counties ['Jackson', 'Clay', 'Baxter', 'St. Francis', 'Sharp', 'Greene', 'Woodruff', 'White', 'Lee', 'Crittenden', 'Prairie', 'Lawrence', 'Poinsett', 'Stone', 'Independence', 'Lonoke', 'Fulton', 'Arkansas', 'Randolph', 'Izard', 'Craighead', 'Cleburne', 'Monroe', 'Mississippi', 'Cross', 'Phillips']\n",
      "\n",
      "District 1 has population 748570 and contains counties ['Faulkner', 'Boone', 'Conway', 'Pulaski', 'Pope', 'Marion', 'Carroll', 'Van Buren', 'Johnson', 'Searcy', 'Perry']\n",
      "\n",
      "District 2 has population 755116 and contains counties ['Little River', 'Ashley', 'Desha', 'Montgomery', 'Howard', 'Nevada', 'Grant', 'Dallas', 'Cleveland', 'Lafayette', 'Saline', 'Chicot', 'Bradley', 'Drew', 'Pike', 'Union', 'Hempstead', 'Polk', 'Clark', 'Logan', 'Miller', 'Garland', 'Sevier', 'Jefferson', 'Lincoln', 'Scott', 'Hot Spring', 'Columbia', 'Ouachita', 'Yell', 'Calhoun']\n",
      "\n",
      "District 3 has population 758979 and contains counties ['Franklin', 'Crawford', 'Benton', 'Madison', 'Sebastian', 'Washington', 'Newton']\n",
      "\n"
     ]
    }
   ],
   "source": [
    "# print the objective value\n",
    "print(m.objVal)\n",
    "\n",
    "# retrieve the districts and their populations\n",
    "#    but first get the district \"centers\"\n",
    "\n",
    "centers = [ j for j in G.nodes if x[j,j].x > 0.5 ]\n",
    "\n",
    "districts = [ [ i for i in G.nodes if x[i,j].x > 0.5 ] for j in centers ]\n",
    "district_counties = [ [ G.nodes[i][\"NAME20\"] for i in districts[j] ] for j in range(k)]\n",
    "district_populations = [ sum(G.nodes[i][\"TOTPOP\"] for i in districts[j]) for j in range(k) ]\n",
    "\n",
    "# print district info\n",
    "for j in range(k):\n",
    "    print(\"District\",j,\"has population\",district_populations[j],\"and contains counties\",district_counties[j])\n",
    "    print(\"\")"
   ]
  },
  {
   "cell_type": "code",
   "execution_count": 13,
   "metadata": {},
   "outputs": [],
   "source": [
    "# Let's draw it on a map\n",
    "import geopandas as gpd"
   ]
  },
  {
   "cell_type": "code",
   "execution_count": 16,
   "metadata": {},
   "outputs": [],
   "source": [
    "# Read Oklahoma county shapefile from \"AR_county.shp\"\n",
    "filepath = '/spfda/datas/AR_county.shp'\n",
    "\n",
    "# Read geopandas dataframe from file\n",
    "df = gpd.read_file(filepath)"
   ]
  },
  {
   "cell_type": "code",
   "execution_count": 17,
   "metadata": {},
   "outputs": [
    {
     "data": {
      "image/png": "[encoded data removed]",
      "text/plain": [
       "<Figure size 432x288 with 1 Axes>"
      ]
     },
     "metadata": {
      "needs_background": "light"
     },
     "output_type": "display_data"
    }
   ],
   "source": [
    "# Which district is each county assigned to?\n",
    "assignment = [ -1 for i in G.nodes ]\n",
    "\n",
    "labeling = { i : -1 for i in G.nodes }\n",
    "for j in range(k):\n",
    "    district = districts[j]\n",
    "    for i in district:\n",
    "        labeling[i] = j\n",
    "\n",
    "# Now add the assignments to a column of the dataframe and map it\n",
    "node_with_this_geoid = { G.nodes[i]['GEOID20'] : i for i in G.nodes }\n",
    "\n",
    "# pick a position u in the dataframe\n",
    "for u in range(G.number_of_nodes()):\n",
    "    \n",
    "    geoid = df['GEOID20'][u]\n",
    "    \n",
    "    # what node in G has this geoid?\n",
    "    i = node_with_this_geoid[geoid]\n",
    "    \n",
    "    # position u in the dataframe should be given\n",
    "    # the same district # that county i has in 'labeling'\n",
    "    assignment[u] = labeling[i]\n",
    "    \n",
    "# now add the assignments to a column of our dataframe and then map it\n",
    "df['assignment'] = assignment\n",
    "\n",
    "my_fig = df.plot(column='assignment').get_figure()"
   ]
  }
 ],
 "metadata": {
  "kernelspec": {
   "display_name": "base",
   "language": "python",
   "name": "python3"
  },
  "language_info": {
   "codemirror_mode": {
    "name": "ipython",
    "version": 3
   },
   "file_extension": ".py",
   "mimetype": "text/x-python",
   "name": "python",
   "nbconvert_exporter": "python",
   "pygments_lexer": "ipython3",
   "version": "3.9.7"
  }
 },
 "nbformat": 4,
 "nbformat_minor": 2
}
